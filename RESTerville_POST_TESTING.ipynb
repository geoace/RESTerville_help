{
 "cells": [
  {
   "cell_type": "code",
   "execution_count": 10,
   "id": "cfe4adae",
   "metadata": {},
   "outputs": [
    {
     "name": "stdout",
     "output_type": "stream",
     "text": [
      "Please enter your API key: ········\n",
      "Encoded data to be sent in POST body:/n\n",
      "api_key=resterville-TEST&service=test_postgres&url=https%3A%2F%2Fgis.coloradosprings.gov%2Farcgis%2Frest%2Fservices%2FGeneralUse%2FPlanningAdmin%2FMapServer%2F0&schema=public&table=cosprings_short_term_rentals&batch=1000\n",
      "data:Parsed arguments: Namespace(service_name='test_postgres', api_url='https://gis.coloradosprings.gov/arcgis/rest/services/GeneralUse/PlanningAdmin/MapServer/0', table_name='cosprings_short_term_rentals', schema='public', geometry_name='geom', oid='OBJECTID', source_epsg=None, target_epsg=None, batch=1000)\n",
      "\n",
      "\n",
      "data:INFO:root:Table public.cosprings_short_term_rentals truncated successfully.\n",
      "\n",
      "\n",
      "data:Environment setup complete\n",
      "\n",
      "\n",
      "data:Connected to database using service: test_postgres\n",
      "\n",
      "\n",
      "data:Source EPSG: 2232\n",
      "\n",
      "\n",
      "data:Table exists: cosprings_short_term_rentals\n",
      "\n",
      "\n",
      "data:Processing batch from offset 0, size 1000. Features in batch: 1000\n",
      "\n",
      "\n",
      "data:ogr2ogr command was successful\n",
      "\n",
      "\n",
      "data:Processed 1000 features in current batch. Total processed: 1000\n",
      "\n",
      "\n",
      "data:Processing batch from offset 1000, size 1000. Features in batch: 541\n",
      "\n",
      "\n",
      "data:ogr2ogr command was successful\n",
      "\n",
      "\n",
      "data:Processed 541 features in current batch. Total processed: 1541\n",
      "\n",
      "\n",
      "data:Last batch processed, terminating loop.\n",
      "\n",
      "\n",
      "data:Total features imported: 1541\n",
      "\n",
      "\n",
      "data:Database connection closed\n",
      "\n",
      "\n",
      "\n"
     ]
    }
   ],
   "source": [
    "import requests\n",
    "import urllib.parse\n",
    "import getpass\n",
    "\n",
    "# Prompt for the API key securely\n",
    "api_key = getpass.getpass(\"Please enter your API key: \")\n",
    "\n",
    "# Define the base URL\n",
    "url = \"https://your_resterville_container.run.app/agol2pg\"\n",
    "\n",
    "# Define the data\n",
    "data = {\n",
    "    \"api_key\": api_key,\n",
    "    \"service\": \"test_postgres\",\n",
    "    \"url\": \"https://SOME_REST_SERVICE/MapServer/0\",\n",
    "    \"schema\": \"public\",\n",
    "    \"table\": \"super_cool_table\",\n",
    "    \"batch\": 1000\n",
    "}\n",
    "\n",
    "# Convert data dictionary to URL-encoded string for display\n",
    "encoded_data = urllib.parse.urlencode(data)\n",
    "\n",
    "print(\"Encoded data to be sent in POST body:\")\n",
    "print(encoded_data)\n",
    "\n",
    "# Set the headers to specify the content type\n",
    "headers = {\n",
    "    \"Content-Type\": \"application/x-www-form-urlencoded\"\n",
    "}\n",
    "\n",
    "# Send the POST request with headers\n",
    "response = requests.post(url, data=encoded_data, headers=headers)\n",
    "print(response.text)\n"
   ]
  },
  {
   "cell_type": "code",
   "execution_count": null,
   "id": "239b2bc2",
   "metadata": {},
   "outputs": [],
   "source": []
  },
  {
   "cell_type": "code",
   "execution_count": null,
   "id": "eceddcfc",
   "metadata": {},
   "outputs": [],
   "source": []
  },
  {
   "cell_type": "code",
   "execution_count": null,
   "id": "cdbdcab1",
   "metadata": {},
   "outputs": [],
   "source": []
  },
  {
   "cell_type": "code",
   "execution_count": null,
   "id": "a11234e1",
   "metadata": {},
   "outputs": [],
   "source": []
  },
  {
   "cell_type": "code",
   "execution_count": null,
   "id": "30d02526",
   "metadata": {},
   "outputs": [],
   "source": []
  }
 ],
 "metadata": {
  "celltoolbar": "Raw Cell Format",
  "kernelspec": {
   "display_name": "Python 3 (ipykernel)",
   "language": "python",
   "name": "python3"
  },
  "language_info": {
   "codemirror_mode": {
    "name": "ipython",
    "version": 3
   },
   "file_extension": ".py",
   "mimetype": "text/x-python",
   "name": "python",
   "nbconvert_exporter": "python",
   "pygments_lexer": "ipython3",
   "version": "3.11.8"
  }
 },
 "nbformat": 4,
 "nbformat_minor": 5
}
